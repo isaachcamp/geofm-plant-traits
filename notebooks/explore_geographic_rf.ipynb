{
 "cells": [
  {
   "cell_type": "code",
   "execution_count": 77,
   "id": "c165dfac",
   "metadata": {},
   "outputs": [],
   "source": [
    "from pathlib import Path\n",
    "import json\n",
    "import pandas as pd\n",
    "from numpy import ndarray\n",
    "from typing import Tuple\n",
    "\n",
    "from sklearn.metrics import mean_absolute_error, root_mean_squared_error, r2_score, mean_absolute_percentage_error\n",
    "from PyGRF import PyGRF\n",
    "\n",
    "from src.data_utils import LabelledTraitData"
   ]
  },
  {
   "cell_type": "code",
   "execution_count": 78,
   "id": "1ae43797",
   "metadata": {},
   "outputs": [],
   "source": [
    "Array = ndarray"
   ]
  },
  {
   "cell_type": "code",
   "execution_count": 92,
   "id": "de58941a",
   "metadata": {},
   "outputs": [],
   "source": [
    "BANDS = [\n",
    "    'B2_real', # Blue band, 490 nm\n",
    "    'B3_real', # Green band, 560 nm\n",
    "    'B4_real', # Red band, 665 nm\n",
    "    'B5_real', # Red edge band, 705 nm\n",
    "    'B6_real', # Red edge band, 740 nm\n",
    "    'B7_real', # Red edge band, 783 nm\n",
    "    'B8_real', # NIR band, 842 nm\n",
    "    'B11_real', # SWIR band, 1610 nm\n",
    "    'B12_real' # SWIR band, 2190 nm\n",
    "    # 'B8a_real' # NIR band, 865 nm\n",
    "]\n",
    "\n",
    "VARS = [\n",
    "    'N.Percent',\n",
    "    'P.Percent',\n",
    "    'K.Percent',\n",
    "    'Ca.Percent',\n",
    "    'Mg.Percent',\n",
    "    'C.Percent',\n",
    "    'Amax',\n",
    "    'Asat',\n",
    "    'Area.cm2',\n",
    "    'Dry.mass.g',\n",
    "    'Fresh.mass.g',\n",
    "    'Thickness.mm',\n",
    "    'SLA.g.m2'\n",
    "]"
   ]
  },
  {
   "cell_type": "code",
   "execution_count": 80,
   "id": "a8febaa6",
   "metadata": {},
   "outputs": [],
   "source": [
    "def preprocess_data(X: pd.DataFrame, y: Array) -> Tuple[Array, Array]:\n",
    "    \"\"\"Configure the data for the model.\"\"\"\n",
    "    return X[BANDS], y\n",
    "\n",
    "def _unstandardise(x: Array, mean: float, std: float):\n",
    "    return (x * std) + mean\n",
    "\n",
    "def unstandardise(preds, targets, stats):\n",
    "    \"\"\"Rescale targets and predictions for sensible metrics.\"\"\"\n",
    "    preds = _unstandardise(preds, stats['mean'], stats['std'])\n",
    "    targets = _unstandardise(targets, stats['mean'], stats['std'])\n",
    "    return preds, targets"
   ]
  },
  {
   "cell_type": "code",
   "execution_count": 81,
   "id": "0a89cb54",
   "metadata": {},
   "outputs": [],
   "source": [
    "dpath = Path('/Users/campbelli/Documents/geofm-plant-traits/data')\n",
    "var = 'Asat'"
   ]
  },
  {
   "cell_type": "code",
   "execution_count": 82,
   "id": "8f75a1e7",
   "metadata": {},
   "outputs": [],
   "source": [
    "metadata_path = dpath / 'metadata'\n",
    "with open(metadata_path / 'trait_stats.json', 'r') as f:\n",
    "    trait_stats = json.load(f)\n",
    "\n",
    "pixel_coords = pd.read_csv(metadata_path / 'pixel_coords.csv', index_col=0)"
   ]
  },
  {
   "cell_type": "code",
   "execution_count": 83,
   "id": "f3a8dd53",
   "metadata": {},
   "outputs": [],
   "source": [
    "# Load model, data and trait stats.\n",
    "dataset = LabelledTraitData(dpath, var)\n",
    "\n",
    "X_train, y_train = dataset.train_data, dataset.train_labels\n",
    "X_test, y_test = dataset.test_data, dataset.test_labels\n",
    "X_val, y_val = dataset.val_data, dataset.val_labels\n",
    "\n",
    "X_train, y_train = preprocess_data(X_train, y_train)\n",
    "X_test, y_test = preprocess_data(X_test, y_test)\n",
    "X_val, y_val = preprocess_data(X_val, y_val)"
   ]
  },
  {
   "cell_type": "code",
   "execution_count": 84,
   "id": "62fbf838",
   "metadata": {},
   "outputs": [],
   "source": [
    "train_coords = pixel_coords.loc[X_train.index]\n",
    "test_coords = pixel_coords.loc[X_test.index]\n",
    "val_coords = pixel_coords.loc[X_val.index]"
   ]
  },
  {
   "cell_type": "code",
   "execution_count": 94,
   "id": "1e7ec8c2",
   "metadata": {},
   "outputs": [],
   "source": [
    "def get_trait_data_and_coords(dpath, var):\n",
    "    dataset = LabelledTraitData(dpath, var)\n",
    "    y = dataset.train_labels\n",
    "    coords = pixel_coords.loc[y.index]\n",
    "    return y, coords"
   ]
  },
  {
   "cell_type": "code",
   "execution_count": null,
   "id": "d2a82060",
   "metadata": {},
   "outputs": [],
   "source": [
    "for var in VARS:\n",
    "    print(var)\n",
    "\n",
    "    with open(metadata_path / 'grf_hparams.json', 'r') as f:\n",
    "        hparams = json.load(f)\n",
    "\n",
    "    if var not in hparams:\n",
    "        # Get trait values and coordinates.\n",
    "        y_train, train_coords = get_trait_data_and_coords(dpath, var)\n",
    "\n",
    "        # Find optimal params with auto-correlation method.\n",
    "        bandwidth, local_weight, p_value = PyGRF.search_bw_lw_ISA(\n",
    "            y_train[\"TraitValue\"],\n",
    "            train_coords[['Lon', 'Lat']]\n",
    "        )\n",
    "        hparams[var] = {\"bandwidth\": bandwidth, \"local_weight\": local_weight}\n",
    "\n",
    "        # Write the updated hyperparameters to file.\n",
    "        with open(metadata_path / 'grf_hparams.json', 'w') as f:\n",
    "            json.dump(hparams, f, indent=4)\n",
    "    else:\n",
    "        pass"
   ]
  },
  {
   "cell_type": "code",
   "execution_count": 86,
   "id": "4ef7a39f",
   "metadata": {},
   "outputs": [],
   "source": [
    "pygrf = PyGRF.PyGRFBuilder(\n",
    "    n_estimators=100,\n",
    "    max_features=0.5,\n",
    "    band_width=bandwidth,\n",
    "    train_weighted=True,\n",
    "    predict_weighted=True,\n",
    "    bootstrap=False,\n",
    "    resampled=True,\n",
    "    random_state=42\n",
    ")"
   ]
  },
  {
   "cell_type": "code",
   "execution_count": null,
   "id": "a5a94b21",
   "metadata": {},
   "outputs": [],
   "source": [
    "# Fit and predict with the PyGRF model.\n",
    "pygrf.fit(X_train, y_train, train_coords[['Lon', 'Lat']])\n",
    "predict_combined, predict_global, predict_local = pygrf.predict(X_test, test_coords[['Lon', 'Lat']], local_weight=local_weight)"
   ]
  },
  {
   "cell_type": "code",
   "execution_count": null,
   "id": "69fbaa81",
   "metadata": {},
   "outputs": [
    {
     "data": {
      "text/plain": [
       "{'mean': 13.087212276355176, 'std': 5.9540228989359205}"
      ]
     },
     "execution_count": 73,
     "metadata": {},
     "output_type": "execute_result"
    }
   ],
   "source": [
    "trait_stats[var]"
   ]
  },
  {
   "cell_type": "code",
   "execution_count": null,
   "id": "54ddeaf1",
   "metadata": {},
   "outputs": [],
   "source": [
    "predict_combined = pd.Series(predict_combined, index=X_test.index)"
   ]
  },
  {
   "cell_type": "code",
   "execution_count": null,
   "id": "85721c87",
   "metadata": {},
   "outputs": [],
   "source": [
    "unstandardised_preds, unstandardised_targets = unstandardise(predict_combined, y_test, trait_stats[var])"
   ]
  },
  {
   "cell_type": "code",
   "execution_count": null,
   "id": "dc186c3d",
   "metadata": {},
   "outputs": [
    {
     "name": "stdout",
     "output_type": "stream",
     "text": [
      "MAE: 2.524\n",
      "RMSE: 3.584\n",
      "R2: 0.642\n",
      "MAPE: 0.277\n"
     ]
    }
   ],
   "source": [
    "# Evaluate the model.\n",
    "mae = mean_absolute_error(unstandardised_targets, unstandardised_preds)\n",
    "rmse = root_mean_squared_error(unstandardised_targets, unstandardised_preds)\n",
    "r2 = r2_score(unstandardised_targets, unstandardised_preds)\n",
    "mape = mean_absolute_percentage_error(unstandardised_targets, unstandardised_preds)\n",
    "print(f'MAE: {mae:.3f}')\n",
    "print(f'RMSE: {rmse:.3f}')\n",
    "print(f'R2: {r2:.3f}')\n",
    "print(f'MAPE: {mape:.3f}')"
   ]
  }
 ],
 "metadata": {
  "kernelspec": {
   "display_name": ".venv",
   "language": "python",
   "name": "python3"
  },
  "language_info": {
   "codemirror_mode": {
    "name": "ipython",
    "version": 3
   },
   "file_extension": ".py",
   "mimetype": "text/x-python",
   "name": "python",
   "nbconvert_exporter": "python",
   "pygments_lexer": "ipython3",
   "version": "3.12.9"
  }
 },
 "nbformat": 4,
 "nbformat_minor": 5
}
