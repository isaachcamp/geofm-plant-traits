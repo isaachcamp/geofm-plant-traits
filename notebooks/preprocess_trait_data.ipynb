{
 "cells": [
  {
   "cell_type": "markdown",
   "id": "5465a877",
   "metadata": {},
   "source": [
    "Currently the train/test/validation data doesn't contain clay_perc."
   ]
  },
  {
   "cell_type": "code",
   "execution_count": 3,
   "id": "31a3381f",
   "metadata": {},
   "outputs": [],
   "source": [
    "from pathlib import Path\n",
    "import pandas as pd\n",
    "import json\n",
    "\n",
    "from src.data_utils import train_val_test_split, get_outlier_iqr"
   ]
  },
  {
   "cell_type": "code",
   "execution_count": 4,
   "id": "ddb595b6",
   "metadata": {},
   "outputs": [
    {
     "name": "stderr",
     "output_type": "stream",
     "text": [
      "/var/folders/g5/h0yjdszs0pz_qr3k5z8bjjq80000gp/T/ipykernel_22847/759108687.py:2: DtypeWarning: Columns (4) have mixed types. Specify dtype option on import or set low_memory=False.\n",
      "  df = pd.read_csv(dpath / 'Master_Table_Modelling_LOWCORRELATIONS_wB8A.csv')\n"
     ]
    }
   ],
   "source": [
    "dpath = Path('/Users/campbelli/Documents/geofm-plant-traits/data')\n",
    "df = pd.read_csv(dpath / 'Master_Table_Modelling_LOWCORRELATIONS_wB8A.csv')\n",
    "# Select only the pixels with 70% of the basal area covered and only community-weighted means.\n",
    "cwms = df[(df['PercentCovered'] == '70') & (df['Type'] == 'CWMean')]\n",
    "cwms.loc[:, 'TraitValue'] = pd.to_numeric(cwms['TraitValue'], errors='raise')"
   ]
  },
  {
   "cell_type": "code",
   "execution_count": 5,
   "id": "5bc19c80",
   "metadata": {},
   "outputs": [],
   "source": [
    "# All commented variables don't seem to be included in the paper.\n",
    "# ** indicates same value for all pixels in a plot.\n",
    "bands = [\n",
    "    'B2_real', # Blue band, 490 nm\n",
    "    'B3_real', # Green band, 560 nm\n",
    "    'B4_real', # Red band, 665 nm\n",
    "    'B5_real', # Red edge band, 705 nm\n",
    "    'B6_real', # Red edge band, 740 nm\n",
    "    'B7_real', # Red edge band, 783 nm\n",
    "    'B8_real', # NIR band, 842 nm\n",
    "    'B11_real', # SWIR band, 1610 nm\n",
    "    'B12_real' # SWIR band, 2190 nm\n",
    "]\n",
    "spectral_indices = [\n",
    "    'MCARI',\n",
    "    'MCARI_Corr',\n",
    "    'MCARI_Entropy',\n",
    "    'MSAVI2', # (2 × NIR + 1 - √((2 × NIR + 1)² - 8 × (NIR - Red))) / 2\n",
    "    'MSAVI2_Corr',\n",
    "    'MSAVI2_Entropy',\n",
    "    'NDRE', #  (NIR - RedEdge)/(NIR + RedEdge)\n",
    "    'NDRE_Corr',\n",
    "    'NDRE_Entropy',\n",
    "]\n",
    "climate_vars = [\n",
    "    'CWD', # Climate Water Deficit\n",
    "    'SoilMoist', # Soil Moisture\n",
    "    'SRAD', # Solar irradiance\n",
    "    'Tmax', # Mean annual maximum temperature\n",
    "]\n",
    "soil_vars = [\n",
    "    'Slope', # Terrain slope\n",
    "    'sand_perc_plot', # Sand content percentage\n",
    "    'ph_h20_plot', # Soil pH in water \n",
    "    'clay_perc_plot', # Clay content percentage **\n",
    "    'CEC_mmol_kg_plot', # Cation exchange capacity **\n",
    "]\n",
    "\n",
    "cols = [*bands, *spectral_indices, *climate_vars, *soil_vars]"
   ]
  },
  {
   "cell_type": "code",
   "execution_count": 6,
   "id": "6b1c19b8",
   "metadata": {},
   "outputs": [
    {
     "data": {
      "text/plain": [
       "Index(['TRU041006', 'TRU041007', 'TRU041008', 'TRU041019', 'TRU041020',\n",
       "       'TRU041021', 'TRU041022', 'TRU041031', 'TRU041032', 'TRU041033',\n",
       "       'TRU041034', 'TRU041043', 'TRU041044', 'TRU041053', 'TRU041054',\n",
       "       'TRU041061', 'TRU04993', 'TRU04994', 'TRU04995', 'TRU04996'],\n",
       "      dtype='object', name='New_Plot')"
      ]
     },
     "execution_count": 6,
     "metadata": {},
     "output_type": "execute_result"
    }
   ],
   "source": [
    "# Find plots where there is no Sentinel-2 data.\n",
    "null_plots = cwms[cwms[bands].isnull().any(axis=1)].groupby('New_Plot')[bands].count()\n",
    "null_plots.index"
   ]
  },
  {
   "cell_type": "code",
   "execution_count": 7,
   "id": "075586af",
   "metadata": {},
   "outputs": [],
   "source": [
    "# Drop plots without Sentinel-2 data.\n",
    "cwms = cwms[~cwms['New_Plot'].isin(null_plots.index)]"
   ]
  },
  {
   "cell_type": "code",
   "execution_count": 8,
   "id": "94bc16a1",
   "metadata": {},
   "outputs": [
    {
     "data": {
      "text/plain": [
       "variable\n",
       "Ca.Percent      1888\n",
       "K.Percent       1888\n",
       "Mg.Percent      1888\n",
       "P.Percent       1887\n",
       "Thickness.mm    1885\n",
       "Area.cm2        1884\n",
       "N.Percent       1884\n",
       "SLA.g.m2        1884\n",
       "WD              1876\n",
       "Asat            1548\n",
       "C.Percent       1537\n",
       "Fresh.mass.g    1270\n",
       "Dry.mass.g      1269\n",
       "Amax            1267\n",
       "Name: New_Plot, dtype: int64"
      ]
     },
     "execution_count": 8,
     "metadata": {},
     "output_type": "execute_result"
    }
   ],
   "source": [
    "# Find number of plots with available data by variable.\n",
    "cwms.groupby('variable').count()['New_Plot'].sort_values(ascending=False)"
   ]
  },
  {
   "cell_type": "code",
   "execution_count": null,
   "id": "8dbae641",
   "metadata": {},
   "outputs": [
    {
     "name": "stdout",
     "output_type": "stream",
     "text": [
      "Outliers for SLA.g.m2: 37\n",
      "Outliers for Thickness.mm: 16\n",
      "Outliers for Mg.Percent: 0\n",
      "Outliers for K.Percent: 10\n",
      "Outliers for Ca.Percent: 27\n",
      "Outliers for N.Percent: 4\n",
      "Outliers for Dry.mass.g: 57\n",
      "Outliers for Fresh.mass.g: 19\n",
      "Outliers for WD: 0\n",
      "Outliers for P.Percent: 2\n",
      "Outliers for C.Percent: 0\n",
      "Outliers for Area.cm2: 54\n",
      "Outliers for Amax: 0\n",
      "Outliers for Asat: 0\n"
     ]
    }
   ],
   "source": [
    "# Split data into train, test and validation sets per variable (ignore the unequal amount of data).\n",
    "train_split = 0.7\n",
    "validation_split = 0.1\n",
    "test_split = 0.2\n",
    "\n",
    "cwms_no_outliers = pd.DataFrame()\n",
    "\n",
    "for variable in cwms['variable'].unique():\n",
    "    # Get the pixels for the current variable\n",
    "    pixels = cwms[cwms['variable'] == variable]\n",
    "\n",
    "    # Drop outliers using IQR method, with conservative threshold of 4*IQR.\n",
    "    outliers = get_outlier_iqr(pixels.loc[:, 'TraitValue'], zlim=4)\n",
    "    print(f\"Outliers for {variable}: {len(outliers)}\")\n",
    "    pixels = pixels.drop(outliers.index).set_index('New_Plot')\n",
    "\n",
    "    cwms_no_outliers = pd.concat([cwms_no_outliers, pixels.reset_index()], join='outer')\n",
    "\n",
    "    if pixels.isna().any().any():\n",
    "        print(f\"Variable {variable} has missing values.\")\n",
    "        continue\n",
    "\n",
    "    train_pixels, val_pixels, test_pixels = train_val_test_split(pixels, train_split, validation_split)\n",
    "\n",
    "    # Drop columns not included in the analysis and save data.\n",
    "    opath = Path('..') / 'data'\n",
    "    \n",
    "    train_pixels[cols].to_csv(opath / 'train' / f'{variable}_train_data.csv')\n",
    "    val_pixels[cols].to_csv(opath / 'validation' / f'{variable}_val_data.csv')\n",
    "    test_pixels[cols].to_csv(opath / 'test' / f'{variable}_test_data.csv')\n",
    "\n",
    "    # Save labels.\n",
    "    train_pixels['TraitValue'].to_csv(opath / 'train' / f'{variable}_train_labels.csv')\n",
    "    val_pixels['TraitValue'].to_csv(opath / 'validation' / f'{variable}_val_labels.csv')\n",
    "    test_pixels['TraitValue'].to_csv(opath / 'test' / f'{variable}_test_labels.csv')"
   ]
  },
  {
   "cell_type": "markdown",
   "id": "efdbbe62",
   "metadata": {},
   "source": [
    "## Calculate mean and standard deviation of traits\n",
    "This will be used for evaluating data during model validation."
   ]
  },
  {
   "cell_type": "code",
   "execution_count": null,
   "id": "ed0b130d",
   "metadata": {},
   "outputs": [],
   "source": [
    "trait_stats = {}\n",
    "\n",
    "for variable in cwms_no_outliers.variable.unique():\n",
    "    var_cwm = cwms_no_outliers[cwms_no_outliers.variable == variable]\n",
    "    var_mean, var_std =  var_cwm['TraitValue'].mean(), var_cwm['TraitValue'].std()\n",
    "    \n",
    "    trait_stats[variable] = {\n",
    "        'mean': var_mean,\n",
    "        'std': var_std\n",
    "    }"
   ]
  },
  {
   "cell_type": "code",
   "execution_count": 21,
   "id": "9fbf0cbe",
   "metadata": {},
   "outputs": [],
   "source": [
    "metadata_path = Path('/Users/campbelli/Documents/geofm-plant-traits/data/metadata')\n",
    "\n",
    "with open(metadata_path / 'trait_stats.json', 'w') as f:\n",
    "    json.dump(trait_stats, f)"
   ]
  }
 ],
 "metadata": {
  "kernelspec": {
   "display_name": ".venv",
   "language": "python",
   "name": "python3"
  },
  "language_info": {
   "codemirror_mode": {
    "name": "ipython",
    "version": 3
   },
   "file_extension": ".py",
   "mimetype": "text/x-python",
   "name": "python",
   "nbconvert_exporter": "python",
   "pygments_lexer": "ipython3",
   "version": "3.12.9"
  }
 },
 "nbformat": 4,
 "nbformat_minor": 5
}
